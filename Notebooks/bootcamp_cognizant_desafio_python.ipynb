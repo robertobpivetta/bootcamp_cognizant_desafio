{
  "nbformat": 4,
  "nbformat_minor": 0,
  "metadata": {
    "colab": {
      "name": "bootcamp_cognizant_desafio_python.ipynb",
      "provenance": [],
      "collapsed_sections": []
    },
    "kernelspec": {
      "name": "python3",
      "display_name": "Python 3"
    },
    "language_info": {
      "name": "python"
    }
  },
  "cells": [
    {
      "cell_type": "markdown",
      "metadata": {
        "id": "YHxEpgUpZQCS"
      },
      "source": [
        "##Python para Análise de Dados (Pandas) - By Roberto Pivetta\n",
        "(Desafio de projeto - Digital Innovation One) - Prof. Fernanda Santos (Data Scientist)\n",
        "<center> Bootcamp: Cognizant Cloud Data Engineer </center>\n",
        "\n",
        "- Trabalhando com Planilhas do Excel\n",
        "- Trabalhando com Datas\n",
        "- Visualização de Dados"
      ]
    },
    {
      "cell_type": "markdown",
      "metadata": {
        "id": "vYBfy4ux4oD2"
      },
      "source": [
        "#**1- TRABALHANDO COM PLANILHAS DO EXCEL**"
      ]
    },
    {
      "cell_type": "code",
      "metadata": {
        "id": "MIZazt86XlnZ"
      },
      "source": [
        "##Importando a biblioteca Pandas  "
      ],
      "execution_count": null,
      "outputs": []
    },
    {
      "cell_type": "code",
      "metadata": {
        "id": "GLhJhHH1XrPE"
      },
      "source": [
        "import pandas as pd"
      ],
      "execution_count": null,
      "outputs": []
    },
    {
      "cell_type": "markdown",
      "metadata": {
        "id": "3QQ1LmMQXtvs"
      },
      "source": [
        "## Leitura dos Arquivos "
      ]
    },
    {
      "cell_type": "code",
      "metadata": {
        "id": "QQJCz1tmX2B0"
      },
      "source": [
        "df1 = pd.read_excel(\"/content/Aracaju.xlsx\")\n",
        "df2 = pd.read_excel(\"/content/Fortaleza.xlsx\")\n",
        "df3 = pd.read_excel(\"/content/Natal.xlsx\")\n",
        "df4 = pd.read_excel(\"/content/Recife.xlsx\")\n",
        "df5 = pd.read_excel(\"/content/Salvador.xlsx\")"
      ],
      "execution_count": null,
      "outputs": []
    },
    {
      "cell_type": "markdown",
      "metadata": {
        "id": "4vT6Z5NKY-qb"
      },
      "source": [
        "##Juntando todos os arquivos (Concatenando os data frames)"
      ]
    },
    {
      "cell_type": "code",
      "metadata": {
        "id": "KY1V4XEkZFEK"
      },
      "source": [
        "df = pd.concat([df1,df2,df3,df4,df5])"
      ],
      "execution_count": null,
      "outputs": []
    },
    {
      "cell_type": "markdown",
      "metadata": {
        "id": "PEb6S9u0aE02"
      },
      "source": [
        "# Exibindo as 5 primeiras linhas "
      ]
    },
    {
      "cell_type": "code",
      "metadata": {
        "colab": {
          "base_uri": "https://localhost:8080/",
          "height": 204
        },
        "id": "GNzPSFgpaKnS",
        "outputId": "12df1c42-4411-4442-ca00-cdbf8532696e"
      },
      "source": [
        "df.head()"
      ],
      "execution_count": null,
      "outputs": [
        {
          "output_type": "execute_result",
          "data": {
            "text/html": [
              "<div>\n",
              "<style scoped>\n",
              "    .dataframe tbody tr th:only-of-type {\n",
              "        vertical-align: middle;\n",
              "    }\n",
              "\n",
              "    .dataframe tbody tr th {\n",
              "        vertical-align: top;\n",
              "    }\n",
              "\n",
              "    .dataframe thead th {\n",
              "        text-align: right;\n",
              "    }\n",
              "</style>\n",
              "<table border=\"1\" class=\"dataframe\">\n",
              "  <thead>\n",
              "    <tr style=\"text-align: right;\">\n",
              "      <th></th>\n",
              "      <th>Cidade</th>\n",
              "      <th>Data</th>\n",
              "      <th>Vendas</th>\n",
              "      <th>LojaID</th>\n",
              "      <th>Qtde</th>\n",
              "    </tr>\n",
              "  </thead>\n",
              "  <tbody>\n",
              "    <tr>\n",
              "      <th>0</th>\n",
              "      <td>Aracaju</td>\n",
              "      <td>2018-01-01</td>\n",
              "      <td>142.00</td>\n",
              "      <td>1520</td>\n",
              "      <td>1</td>\n",
              "    </tr>\n",
              "    <tr>\n",
              "      <th>1</th>\n",
              "      <td>Aracaju</td>\n",
              "      <td>2018-01-01</td>\n",
              "      <td>14.21</td>\n",
              "      <td>1522</td>\n",
              "      <td>6</td>\n",
              "    </tr>\n",
              "    <tr>\n",
              "      <th>2</th>\n",
              "      <td>Aracaju</td>\n",
              "      <td>2018-01-01</td>\n",
              "      <td>71.55</td>\n",
              "      <td>1520</td>\n",
              "      <td>1</td>\n",
              "    </tr>\n",
              "    <tr>\n",
              "      <th>3</th>\n",
              "      <td>Aracaju</td>\n",
              "      <td>2018-01-01</td>\n",
              "      <td>3.01</td>\n",
              "      <td>1521</td>\n",
              "      <td>7</td>\n",
              "    </tr>\n",
              "    <tr>\n",
              "      <th>4</th>\n",
              "      <td>Aracaju</td>\n",
              "      <td>2018-01-01</td>\n",
              "      <td>24.51</td>\n",
              "      <td>1522</td>\n",
              "      <td>8</td>\n",
              "    </tr>\n",
              "  </tbody>\n",
              "</table>\n",
              "</div>"
            ],
            "text/plain": [
              "    Cidade       Data  Vendas  LojaID  Qtde\n",
              "0  Aracaju 2018-01-01  142.00    1520     1\n",
              "1  Aracaju 2018-01-01   14.21    1522     6\n",
              "2  Aracaju 2018-01-01   71.55    1520     1\n",
              "3  Aracaju 2018-01-01    3.01    1521     7\n",
              "4  Aracaju 2018-01-01   24.51    1522     8"
            ]
          },
          "metadata": {
            "tags": []
          },
          "execution_count": 6
        }
      ]
    },
    {
      "cell_type": "markdown",
      "metadata": {
        "id": "PiUFPPW9bbjW"
      },
      "source": [
        "#Exibindo as 5 últimas linhas"
      ]
    },
    {
      "cell_type": "code",
      "metadata": {
        "colab": {
          "base_uri": "https://localhost:8080/",
          "height": 204
        },
        "id": "3qudHvAgbf5K",
        "outputId": "750249f0-1e15-42fd-bbf0-63d1fceef742"
      },
      "source": [
        "df.tail()"
      ],
      "execution_count": null,
      "outputs": [
        {
          "output_type": "execute_result",
          "data": {
            "text/html": [
              "<div>\n",
              "<style scoped>\n",
              "    .dataframe tbody tr th:only-of-type {\n",
              "        vertical-align: middle;\n",
              "    }\n",
              "\n",
              "    .dataframe tbody tr th {\n",
              "        vertical-align: top;\n",
              "    }\n",
              "\n",
              "    .dataframe thead th {\n",
              "        text-align: right;\n",
              "    }\n",
              "</style>\n",
              "<table border=\"1\" class=\"dataframe\">\n",
              "  <thead>\n",
              "    <tr style=\"text-align: right;\">\n",
              "      <th></th>\n",
              "      <th>Cidade</th>\n",
              "      <th>Data</th>\n",
              "      <th>Vendas</th>\n",
              "      <th>LojaID</th>\n",
              "      <th>Qtde</th>\n",
              "    </tr>\n",
              "  </thead>\n",
              "  <tbody>\n",
              "    <tr>\n",
              "      <th>235</th>\n",
              "      <td>Salvador</td>\n",
              "      <td>2019-01-03</td>\n",
              "      <td>41.84</td>\n",
              "      <td>1034</td>\n",
              "      <td>1</td>\n",
              "    </tr>\n",
              "    <tr>\n",
              "      <th>236</th>\n",
              "      <td>Salvador</td>\n",
              "      <td>2019-01-03</td>\n",
              "      <td>126.29</td>\n",
              "      <td>1035</td>\n",
              "      <td>3</td>\n",
              "    </tr>\n",
              "    <tr>\n",
              "      <th>237</th>\n",
              "      <td>Salvador</td>\n",
              "      <td>2019-01-03</td>\n",
              "      <td>38.06</td>\n",
              "      <td>1036</td>\n",
              "      <td>3</td>\n",
              "    </tr>\n",
              "    <tr>\n",
              "      <th>238</th>\n",
              "      <td>Salvador</td>\n",
              "      <td>2019-01-03</td>\n",
              "      <td>139.64</td>\n",
              "      <td>1035</td>\n",
              "      <td>1</td>\n",
              "    </tr>\n",
              "    <tr>\n",
              "      <th>239</th>\n",
              "      <td>Salvador</td>\n",
              "      <td>2019-01-03</td>\n",
              "      <td>161.41</td>\n",
              "      <td>1037</td>\n",
              "      <td>3</td>\n",
              "    </tr>\n",
              "  </tbody>\n",
              "</table>\n",
              "</div>"
            ],
            "text/plain": [
              "       Cidade       Data  Vendas  LojaID  Qtde\n",
              "235  Salvador 2019-01-03   41.84    1034     1\n",
              "236  Salvador 2019-01-03  126.29    1035     3\n",
              "237  Salvador 2019-01-03   38.06    1036     3\n",
              "238  Salvador 2019-01-03  139.64    1035     1\n",
              "239  Salvador 2019-01-03  161.41    1037     3"
            ]
          },
          "metadata": {
            "tags": []
          },
          "execution_count": 64
        }
      ]
    },
    {
      "cell_type": "markdown",
      "metadata": {
        "id": "gsdWUdqrbxMi"
      },
      "source": [
        "# Verificando o tipo de dado (cada coluna)"
      ]
    },
    {
      "cell_type": "code",
      "metadata": {
        "colab": {
          "base_uri": "https://localhost:8080/"
        },
        "id": "TDCzHDzAb5VE",
        "outputId": "72fd8a88-0464-40db-dd21-f5f4cd24131f"
      },
      "source": [
        "df.dtypes"
      ],
      "execution_count": null,
      "outputs": [
        {
          "output_type": "execute_result",
          "data": {
            "text/plain": [
              "Cidade            object\n",
              "Data      datetime64[ns]\n",
              "Vendas           float64\n",
              "LojaID             int64\n",
              "Qtde               int64\n",
              "dtype: object"
            ]
          },
          "metadata": {
            "tags": []
          },
          "execution_count": 7
        }
      ]
    },
    {
      "cell_type": "markdown",
      "metadata": {
        "id": "xfaIZMhbdcU_"
      },
      "source": [
        "# Alterando o tipo de dado da coluna LojaID"
      ]
    },
    {
      "cell_type": "code",
      "metadata": {
        "id": "4z8g6SCydjaR"
      },
      "source": [
        "df['LojaID']= df['LojaID'].astype(\"object\")"
      ],
      "execution_count": null,
      "outputs": []
    },
    {
      "cell_type": "code",
      "metadata": {
        "colab": {
          "base_uri": "https://localhost:8080/"
        },
        "id": "nV96LxB8eEga",
        "outputId": "b48393c5-0771-4a83-cf51-364cbc7b6a97"
      },
      "source": [
        "df.dtypes"
      ],
      "execution_count": null,
      "outputs": [
        {
          "output_type": "execute_result",
          "data": {
            "text/plain": [
              "Cidade            object\n",
              "Data      datetime64[ns]\n",
              "Vendas           float64\n",
              "LojaID            object\n",
              "Qtde               int64\n",
              "dtype: object"
            ]
          },
          "metadata": {
            "tags": []
          },
          "execution_count": 9
        }
      ]
    },
    {
      "cell_type": "markdown",
      "metadata": {
        "id": "OjI8VDhWesug"
      },
      "source": [
        "#Tratando valores faltantes no data frame"
      ]
    },
    {
      "cell_type": "code",
      "metadata": {
        "colab": {
          "base_uri": "https://localhost:8080/"
        },
        "id": "FhsS_X71eyzJ",
        "outputId": "310cab8c-8119-46f8-aa09-8ab3508254f7"
      },
      "source": [
        "#consultando linhas com valores faltantes\n",
        "df.isnull().sum()"
      ],
      "execution_count": null,
      "outputs": [
        {
          "output_type": "execute_result",
          "data": {
            "text/plain": [
              "Cidade    0\n",
              "Data      0\n",
              "Vendas    5\n",
              "LojaID    0\n",
              "Qtde      0\n",
              "dtype: int64"
            ]
          },
          "metadata": {
            "tags": []
          },
          "execution_count": 10
        }
      ]
    },
    {
      "cell_type": "markdown",
      "metadata": {
        "id": "n2NeYYVthJWC"
      },
      "source": [
        "# Substituindo os valores nulos pelas médias"
      ]
    },
    {
      "cell_type": "code",
      "metadata": {
        "id": "ISXwdNqChPQc"
      },
      "source": [
        "df['Vendas'].fillna(df['Vendas'].mean(), inplace=True)"
      ],
      "execution_count": null,
      "outputs": []
    },
    {
      "cell_type": "code",
      "metadata": {
        "colab": {
          "base_uri": "https://localhost:8080/"
        },
        "id": "8ir6xtZ1jRzV",
        "outputId": "fc8ebcfb-de84-43e5-fe45-d58ff180b42f"
      },
      "source": [
        "df.isnull().sum()"
      ],
      "execution_count": null,
      "outputs": [
        {
          "output_type": "execute_result",
          "data": {
            "text/plain": [
              "Cidade    0\n",
              "Data      0\n",
              "Vendas    0\n",
              "LojaID    0\n",
              "Qtde      0\n",
              "dtype: int64"
            ]
          },
          "metadata": {
            "tags": []
          },
          "execution_count": 12
        }
      ]
    },
    {
      "cell_type": "markdown",
      "metadata": {
        "id": "fLFhMMk4kkO1"
      },
      "source": [
        "#Substituindo os valores nulos por zero"
      ]
    },
    {
      "cell_type": "code",
      "metadata": {
        "id": "-bwKZmDdkok9"
      },
      "source": [
        "df['Vendas'].fillna(0,inplace=True)"
      ],
      "execution_count": null,
      "outputs": []
    },
    {
      "cell_type": "markdown",
      "metadata": {
        "id": "pge4B3WwlNM1"
      },
      "source": [
        "#Apagando as linhas com valores nulos"
      ]
    },
    {
      "cell_type": "code",
      "metadata": {
        "id": "FiQC-nLXlQyu"
      },
      "source": [
        "df.dropna(inplace=True)"
      ],
      "execution_count": null,
      "outputs": []
    },
    {
      "cell_type": "markdown",
      "metadata": {
        "id": "N0-8yykilrE-"
      },
      "source": [
        "#Apagando as linhas com valores nulos com base apenas 1 coluna "
      ]
    },
    {
      "cell_type": "code",
      "metadata": {
        "id": "ZyIe63cul7Zn"
      },
      "source": [
        "df.dropna(subset=['Vendas'],inplace=True)"
      ],
      "execution_count": null,
      "outputs": []
    },
    {
      "cell_type": "markdown",
      "metadata": {
        "id": "690PniwumSdG"
      },
      "source": [
        "# Removendo as linhas que estejam com valores faltantes em todas as colunas "
      ]
    },
    {
      "cell_type": "code",
      "metadata": {
        "id": "BSYu1VyVmh1A"
      },
      "source": [
        "df.dropna(how='all',inplace=True)"
      ],
      "execution_count": null,
      "outputs": []
    },
    {
      "cell_type": "markdown",
      "metadata": {
        "id": "YkEg1Zklm0Vz"
      },
      "source": [
        "# Criando a Coluna (Receita) e efetuando a multiplicação dos seguintes campos : vendas x quantidade"
      ]
    },
    {
      "cell_type": "code",
      "metadata": {
        "id": "Vq2C3kagnO9u"
      },
      "source": [
        "df['Receita']= df['Vendas'].mul(df['Qtde'])"
      ],
      "execution_count": null,
      "outputs": []
    },
    {
      "cell_type": "code",
      "metadata": {
        "colab": {
          "base_uri": "https://localhost:8080/",
          "height": 204
        },
        "id": "Qq9GKW2tpKcL",
        "outputId": "bbd6d246-62a3-4082-fd07-f1f1d86517e6"
      },
      "source": [
        "df.head()"
      ],
      "execution_count": null,
      "outputs": [
        {
          "output_type": "execute_result",
          "data": {
            "text/html": [
              "<div>\n",
              "<style scoped>\n",
              "    .dataframe tbody tr th:only-of-type {\n",
              "        vertical-align: middle;\n",
              "    }\n",
              "\n",
              "    .dataframe tbody tr th {\n",
              "        vertical-align: top;\n",
              "    }\n",
              "\n",
              "    .dataframe thead th {\n",
              "        text-align: right;\n",
              "    }\n",
              "</style>\n",
              "<table border=\"1\" class=\"dataframe\">\n",
              "  <thead>\n",
              "    <tr style=\"text-align: right;\">\n",
              "      <th></th>\n",
              "      <th>Cidade</th>\n",
              "      <th>Data</th>\n",
              "      <th>Vendas</th>\n",
              "      <th>LojaID</th>\n",
              "      <th>Qtde</th>\n",
              "      <th>Receita</th>\n",
              "    </tr>\n",
              "  </thead>\n",
              "  <tbody>\n",
              "    <tr>\n",
              "      <th>0</th>\n",
              "      <td>Aracaju</td>\n",
              "      <td>2018-01-01</td>\n",
              "      <td>142.00</td>\n",
              "      <td>1520</td>\n",
              "      <td>1</td>\n",
              "      <td>142.00</td>\n",
              "    </tr>\n",
              "    <tr>\n",
              "      <th>1</th>\n",
              "      <td>Aracaju</td>\n",
              "      <td>2018-01-01</td>\n",
              "      <td>14.21</td>\n",
              "      <td>1522</td>\n",
              "      <td>6</td>\n",
              "      <td>85.26</td>\n",
              "    </tr>\n",
              "    <tr>\n",
              "      <th>2</th>\n",
              "      <td>Aracaju</td>\n",
              "      <td>2018-01-01</td>\n",
              "      <td>71.55</td>\n",
              "      <td>1520</td>\n",
              "      <td>1</td>\n",
              "      <td>71.55</td>\n",
              "    </tr>\n",
              "    <tr>\n",
              "      <th>3</th>\n",
              "      <td>Aracaju</td>\n",
              "      <td>2018-01-01</td>\n",
              "      <td>3.01</td>\n",
              "      <td>1521</td>\n",
              "      <td>7</td>\n",
              "      <td>21.07</td>\n",
              "    </tr>\n",
              "    <tr>\n",
              "      <th>4</th>\n",
              "      <td>Aracaju</td>\n",
              "      <td>2018-01-01</td>\n",
              "      <td>24.51</td>\n",
              "      <td>1522</td>\n",
              "      <td>8</td>\n",
              "      <td>196.08</td>\n",
              "    </tr>\n",
              "  </tbody>\n",
              "</table>\n",
              "</div>"
            ],
            "text/plain": [
              "    Cidade       Data  Vendas LojaID  Qtde  Receita\n",
              "0  Aracaju 2018-01-01  142.00   1520     1   142.00\n",
              "1  Aracaju 2018-01-01   14.21   1522     6    85.26\n",
              "2  Aracaju 2018-01-01   71.55   1520     1    71.55\n",
              "3  Aracaju 2018-01-01    3.01   1521     7    21.07\n",
              "4  Aracaju 2018-01-01   24.51   1522     8   196.08"
            ]
          },
          "metadata": {
            "tags": []
          },
          "execution_count": 18
        }
      ]
    },
    {
      "cell_type": "markdown",
      "metadata": {
        "id": "zl9qOHnooQ72"
      },
      "source": [
        "# Criando a Coluna (Receita/Vendas) e efetuando a divisão dos seguintes campos: (Receita / Vendas)"
      ]
    },
    {
      "cell_type": "code",
      "metadata": {
        "id": "lwN9YzWWorR2"
      },
      "source": [
        "df['Receita/vendas'] = df['Receita'] / df['Vendas']"
      ],
      "execution_count": null,
      "outputs": []
    },
    {
      "cell_type": "code",
      "metadata": {
        "colab": {
          "base_uri": "https://localhost:8080/",
          "height": 204
        },
        "id": "GA88ifJVo3Pu",
        "outputId": "de794cfc-6b00-453d-86f0-e2d32f3e1a2f"
      },
      "source": [
        "df.head()"
      ],
      "execution_count": null,
      "outputs": [
        {
          "output_type": "execute_result",
          "data": {
            "text/html": [
              "<div>\n",
              "<style scoped>\n",
              "    .dataframe tbody tr th:only-of-type {\n",
              "        vertical-align: middle;\n",
              "    }\n",
              "\n",
              "    .dataframe tbody tr th {\n",
              "        vertical-align: top;\n",
              "    }\n",
              "\n",
              "    .dataframe thead th {\n",
              "        text-align: right;\n",
              "    }\n",
              "</style>\n",
              "<table border=\"1\" class=\"dataframe\">\n",
              "  <thead>\n",
              "    <tr style=\"text-align: right;\">\n",
              "      <th></th>\n",
              "      <th>Cidade</th>\n",
              "      <th>Data</th>\n",
              "      <th>Vendas</th>\n",
              "      <th>LojaID</th>\n",
              "      <th>Qtde</th>\n",
              "      <th>Receita</th>\n",
              "      <th>Receita/vendas</th>\n",
              "    </tr>\n",
              "  </thead>\n",
              "  <tbody>\n",
              "    <tr>\n",
              "      <th>0</th>\n",
              "      <td>Aracaju</td>\n",
              "      <td>2018-01-01</td>\n",
              "      <td>142.00</td>\n",
              "      <td>1520</td>\n",
              "      <td>1</td>\n",
              "      <td>142.00</td>\n",
              "      <td>1.0</td>\n",
              "    </tr>\n",
              "    <tr>\n",
              "      <th>1</th>\n",
              "      <td>Aracaju</td>\n",
              "      <td>2018-01-01</td>\n",
              "      <td>14.21</td>\n",
              "      <td>1522</td>\n",
              "      <td>6</td>\n",
              "      <td>85.26</td>\n",
              "      <td>6.0</td>\n",
              "    </tr>\n",
              "    <tr>\n",
              "      <th>2</th>\n",
              "      <td>Aracaju</td>\n",
              "      <td>2018-01-01</td>\n",
              "      <td>71.55</td>\n",
              "      <td>1520</td>\n",
              "      <td>1</td>\n",
              "      <td>71.55</td>\n",
              "      <td>1.0</td>\n",
              "    </tr>\n",
              "    <tr>\n",
              "      <th>3</th>\n",
              "      <td>Aracaju</td>\n",
              "      <td>2018-01-01</td>\n",
              "      <td>3.01</td>\n",
              "      <td>1521</td>\n",
              "      <td>7</td>\n",
              "      <td>21.07</td>\n",
              "      <td>7.0</td>\n",
              "    </tr>\n",
              "    <tr>\n",
              "      <th>4</th>\n",
              "      <td>Aracaju</td>\n",
              "      <td>2018-01-01</td>\n",
              "      <td>24.51</td>\n",
              "      <td>1522</td>\n",
              "      <td>8</td>\n",
              "      <td>196.08</td>\n",
              "      <td>8.0</td>\n",
              "    </tr>\n",
              "  </tbody>\n",
              "</table>\n",
              "</div>"
            ],
            "text/plain": [
              "    Cidade       Data  Vendas LojaID  Qtde  Receita  Receita/vendas\n",
              "0  Aracaju 2018-01-01  142.00   1520     1   142.00             1.0\n",
              "1  Aracaju 2018-01-01   14.21   1522     6    85.26             6.0\n",
              "2  Aracaju 2018-01-01   71.55   1520     1    71.55             1.0\n",
              "3  Aracaju 2018-01-01    3.01   1521     7    21.07             7.0\n",
              "4  Aracaju 2018-01-01   24.51   1522     8   196.08             8.0"
            ]
          },
          "metadata": {
            "tags": []
          },
          "execution_count": 20
        }
      ]
    },
    {
      "cell_type": "markdown",
      "metadata": {
        "id": "mY9-2_ZBpj02"
      },
      "source": [
        "# Retornando a maior receita "
      ]
    },
    {
      "cell_type": "code",
      "metadata": {
        "colab": {
          "base_uri": "https://localhost:8080/"
        },
        "id": "VtV_HtNUpoY9",
        "outputId": "bbd63adb-4623-463d-e480-53e49caf40c5"
      },
      "source": [
        "df['Receita'].max()"
      ],
      "execution_count": null,
      "outputs": [
        {
          "output_type": "execute_result",
          "data": {
            "text/plain": [
              "3544.0"
            ]
          },
          "metadata": {
            "tags": []
          },
          "execution_count": 21
        }
      ]
    },
    {
      "cell_type": "markdown",
      "metadata": {
        "id": "ppVyW-7cpuN-"
      },
      "source": [
        "#Retornando a menor receita"
      ]
    },
    {
      "cell_type": "code",
      "metadata": {
        "colab": {
          "base_uri": "https://localhost:8080/"
        },
        "id": "8sVWyTfYp2Q8",
        "outputId": "f84b111d-dbbf-431f-a844-300f36b382e6"
      },
      "source": [
        "df['Receita'].min()"
      ],
      "execution_count": null,
      "outputs": [
        {
          "output_type": "execute_result",
          "data": {
            "text/plain": [
              "3.34"
            ]
          },
          "metadata": {
            "tags": []
          },
          "execution_count": 22
        }
      ]
    },
    {
      "cell_type": "markdown",
      "metadata": {
        "id": "wUBIul-Gqc2-"
      },
      "source": [
        "# Utilizando o método nlargest e apresentando as 3 melhores receitas"
      ]
    },
    {
      "cell_type": "code",
      "metadata": {
        "colab": {
          "base_uri": "https://localhost:8080/",
          "height": 142
        },
        "id": "0Mxv6XyIql0N",
        "outputId": "1e95b37d-4ed7-485e-fd9d-663a7d61d780"
      },
      "source": [
        "df.nlargest(3,\"Receita\")"
      ],
      "execution_count": null,
      "outputs": [
        {
          "output_type": "execute_result",
          "data": {
            "text/html": [
              "<div>\n",
              "<style scoped>\n",
              "    .dataframe tbody tr th:only-of-type {\n",
              "        vertical-align: middle;\n",
              "    }\n",
              "\n",
              "    .dataframe tbody tr th {\n",
              "        vertical-align: top;\n",
              "    }\n",
              "\n",
              "    .dataframe thead th {\n",
              "        text-align: right;\n",
              "    }\n",
              "</style>\n",
              "<table border=\"1\" class=\"dataframe\">\n",
              "  <thead>\n",
              "    <tr style=\"text-align: right;\">\n",
              "      <th></th>\n",
              "      <th>Cidade</th>\n",
              "      <th>Data</th>\n",
              "      <th>Vendas</th>\n",
              "      <th>LojaID</th>\n",
              "      <th>Qtde</th>\n",
              "      <th>Receita</th>\n",
              "      <th>Receita/vendas</th>\n",
              "    </tr>\n",
              "  </thead>\n",
              "  <tbody>\n",
              "    <tr>\n",
              "      <th>7</th>\n",
              "      <td>Natal</td>\n",
              "      <td>2019-03-18</td>\n",
              "      <td>886.0</td>\n",
              "      <td>853</td>\n",
              "      <td>4</td>\n",
              "      <td>3544.0</td>\n",
              "      <td>4.0</td>\n",
              "    </tr>\n",
              "    <tr>\n",
              "      <th>51</th>\n",
              "      <td>Natal</td>\n",
              "      <td>2018-01-21</td>\n",
              "      <td>859.0</td>\n",
              "      <td>852</td>\n",
              "      <td>4</td>\n",
              "      <td>3436.0</td>\n",
              "      <td>4.0</td>\n",
              "    </tr>\n",
              "    <tr>\n",
              "      <th>55</th>\n",
              "      <td>Natal</td>\n",
              "      <td>2019-01-08</td>\n",
              "      <td>859.0</td>\n",
              "      <td>854</td>\n",
              "      <td>4</td>\n",
              "      <td>3436.0</td>\n",
              "      <td>4.0</td>\n",
              "    </tr>\n",
              "  </tbody>\n",
              "</table>\n",
              "</div>"
            ],
            "text/plain": [
              "   Cidade       Data  Vendas LojaID  Qtde  Receita  Receita/vendas\n",
              "7   Natal 2019-03-18   886.0    853     4   3544.0             4.0\n",
              "51  Natal 2018-01-21   859.0    852     4   3436.0             4.0\n",
              "55  Natal 2019-01-08   859.0    854     4   3436.0             4.0"
            ]
          },
          "metadata": {
            "tags": []
          },
          "execution_count": 23
        }
      ]
    },
    {
      "cell_type": "markdown",
      "metadata": {
        "id": "ZeSttWBnrJ7c"
      },
      "source": [
        "#Utilizando o método nsmallest e apresentando as 3 piores receitas"
      ]
    },
    {
      "cell_type": "code",
      "metadata": {
        "colab": {
          "base_uri": "https://localhost:8080/",
          "height": 142
        },
        "id": "qgsU2zmEraoJ",
        "outputId": "41aeeed1-d33f-4d0b-e2d3-b1dbfe173ffc"
      },
      "source": [
        "df.nsmallest(3,\"Receita\")"
      ],
      "execution_count": null,
      "outputs": [
        {
          "output_type": "execute_result",
          "data": {
            "text/html": [
              "<div>\n",
              "<style scoped>\n",
              "    .dataframe tbody tr th:only-of-type {\n",
              "        vertical-align: middle;\n",
              "    }\n",
              "\n",
              "    .dataframe tbody tr th {\n",
              "        vertical-align: top;\n",
              "    }\n",
              "\n",
              "    .dataframe thead th {\n",
              "        text-align: right;\n",
              "    }\n",
              "</style>\n",
              "<table border=\"1\" class=\"dataframe\">\n",
              "  <thead>\n",
              "    <tr style=\"text-align: right;\">\n",
              "      <th></th>\n",
              "      <th>Cidade</th>\n",
              "      <th>Data</th>\n",
              "      <th>Vendas</th>\n",
              "      <th>LojaID</th>\n",
              "      <th>Qtde</th>\n",
              "      <th>Receita</th>\n",
              "      <th>Receita/vendas</th>\n",
              "    </tr>\n",
              "  </thead>\n",
              "  <tbody>\n",
              "    <tr>\n",
              "      <th>118</th>\n",
              "      <td>Aracaju</td>\n",
              "      <td>2018-01-01</td>\n",
              "      <td>3.34</td>\n",
              "      <td>1522</td>\n",
              "      <td>1</td>\n",
              "      <td>3.34</td>\n",
              "      <td>1.0</td>\n",
              "    </tr>\n",
              "    <tr>\n",
              "      <th>65</th>\n",
              "      <td>Recife</td>\n",
              "      <td>2019-01-01</td>\n",
              "      <td>4.01</td>\n",
              "      <td>981</td>\n",
              "      <td>1</td>\n",
              "      <td>4.01</td>\n",
              "      <td>1.0</td>\n",
              "    </tr>\n",
              "    <tr>\n",
              "      <th>92</th>\n",
              "      <td>Natal</td>\n",
              "      <td>2019-01-02</td>\n",
              "      <td>4.57</td>\n",
              "      <td>1035</td>\n",
              "      <td>1</td>\n",
              "      <td>4.57</td>\n",
              "      <td>1.0</td>\n",
              "    </tr>\n",
              "  </tbody>\n",
              "</table>\n",
              "</div>"
            ],
            "text/plain": [
              "      Cidade       Data  Vendas LojaID  Qtde  Receita  Receita/vendas\n",
              "118  Aracaju 2018-01-01    3.34   1522     1     3.34             1.0\n",
              "65    Recife 2019-01-01    4.01    981     1     4.01             1.0\n",
              "92     Natal 2019-01-02    4.57   1035     1     4.57             1.0"
            ]
          },
          "metadata": {
            "tags": []
          },
          "execution_count": 24
        }
      ]
    },
    {
      "cell_type": "markdown",
      "metadata": {
        "id": "ilDxHmnKrp3w"
      },
      "source": [
        "# Agrupamento por cidade (receita)"
      ]
    },
    {
      "cell_type": "code",
      "metadata": {
        "colab": {
          "base_uri": "https://localhost:8080/"
        },
        "id": "1gaO-xf6sA2k",
        "outputId": "21289e9e-4f52-4e4e-bdec-0e926ec4eaef"
      },
      "source": [
        "df.groupby('Cidade')['Receita'].sum()"
      ],
      "execution_count": null,
      "outputs": [
        {
          "output_type": "execute_result",
          "data": {
            "text/plain": [
              "Cidade\n",
              "Aracaju       49483.920805\n",
              "Fortaleza     38894.864407\n",
              "Natal        167963.190805\n",
              "Recife        52917.404407\n",
              "Salvador      40596.730000\n",
              "Name: Receita, dtype: float64"
            ]
          },
          "metadata": {
            "tags": []
          },
          "execution_count": 25
        }
      ]
    },
    {
      "cell_type": "markdown",
      "metadata": {
        "id": "57MuAVdBsYSs"
      },
      "source": [
        "# Ordenando o conjunto de dados da maior receita para a menor"
      ]
    },
    {
      "cell_type": "code",
      "metadata": {
        "colab": {
          "base_uri": "https://localhost:8080/",
          "height": 359
        },
        "id": "XGlj9qslsc9Z",
        "outputId": "6cb204e9-86b6-4237-d665-7a713ace9363"
      },
      "source": [
        "df.sort_values(\"Receita\", ascending=False).head(10)"
      ],
      "execution_count": null,
      "outputs": [
        {
          "output_type": "execute_result",
          "data": {
            "text/html": [
              "<div>\n",
              "<style scoped>\n",
              "    .dataframe tbody tr th:only-of-type {\n",
              "        vertical-align: middle;\n",
              "    }\n",
              "\n",
              "    .dataframe tbody tr th {\n",
              "        vertical-align: top;\n",
              "    }\n",
              "\n",
              "    .dataframe thead th {\n",
              "        text-align: right;\n",
              "    }\n",
              "</style>\n",
              "<table border=\"1\" class=\"dataframe\">\n",
              "  <thead>\n",
              "    <tr style=\"text-align: right;\">\n",
              "      <th></th>\n",
              "      <th>Cidade</th>\n",
              "      <th>Data</th>\n",
              "      <th>Vendas</th>\n",
              "      <th>LojaID</th>\n",
              "      <th>Qtde</th>\n",
              "      <th>Receita</th>\n",
              "      <th>Receita/vendas</th>\n",
              "    </tr>\n",
              "  </thead>\n",
              "  <tbody>\n",
              "    <tr>\n",
              "      <th>7</th>\n",
              "      <td>Natal</td>\n",
              "      <td>2019-03-18</td>\n",
              "      <td>886.0</td>\n",
              "      <td>853</td>\n",
              "      <td>4</td>\n",
              "      <td>3544.0</td>\n",
              "      <td>4.0</td>\n",
              "    </tr>\n",
              "    <tr>\n",
              "      <th>51</th>\n",
              "      <td>Natal</td>\n",
              "      <td>2018-01-21</td>\n",
              "      <td>859.0</td>\n",
              "      <td>852</td>\n",
              "      <td>4</td>\n",
              "      <td>3436.0</td>\n",
              "      <td>4.0</td>\n",
              "    </tr>\n",
              "    <tr>\n",
              "      <th>55</th>\n",
              "      <td>Natal</td>\n",
              "      <td>2019-01-08</td>\n",
              "      <td>859.0</td>\n",
              "      <td>854</td>\n",
              "      <td>4</td>\n",
              "      <td>3436.0</td>\n",
              "      <td>4.0</td>\n",
              "    </tr>\n",
              "    <tr>\n",
              "      <th>30</th>\n",
              "      <td>Natal</td>\n",
              "      <td>2018-10-02</td>\n",
              "      <td>856.0</td>\n",
              "      <td>853</td>\n",
              "      <td>4</td>\n",
              "      <td>3424.0</td>\n",
              "      <td>4.0</td>\n",
              "    </tr>\n",
              "    <tr>\n",
              "      <th>41</th>\n",
              "      <td>Natal</td>\n",
              "      <td>2018-05-20</td>\n",
              "      <td>835.0</td>\n",
              "      <td>852</td>\n",
              "      <td>4</td>\n",
              "      <td>3340.0</td>\n",
              "      <td>4.0</td>\n",
              "    </tr>\n",
              "    <tr>\n",
              "      <th>38</th>\n",
              "      <td>Natal</td>\n",
              "      <td>2018-02-25</td>\n",
              "      <td>828.0</td>\n",
              "      <td>852</td>\n",
              "      <td>4</td>\n",
              "      <td>3312.0</td>\n",
              "      <td>4.0</td>\n",
              "    </tr>\n",
              "    <tr>\n",
              "      <th>10</th>\n",
              "      <td>Natal</td>\n",
              "      <td>2018-10-27</td>\n",
              "      <td>828.0</td>\n",
              "      <td>852</td>\n",
              "      <td>4</td>\n",
              "      <td>3312.0</td>\n",
              "      <td>4.0</td>\n",
              "    </tr>\n",
              "    <tr>\n",
              "      <th>69</th>\n",
              "      <td>Natal</td>\n",
              "      <td>2019-03-24</td>\n",
              "      <td>817.0</td>\n",
              "      <td>852</td>\n",
              "      <td>4</td>\n",
              "      <td>3268.0</td>\n",
              "      <td>4.0</td>\n",
              "    </tr>\n",
              "    <tr>\n",
              "      <th>62</th>\n",
              "      <td>Natal</td>\n",
              "      <td>2018-02-10</td>\n",
              "      <td>793.0</td>\n",
              "      <td>854</td>\n",
              "      <td>4</td>\n",
              "      <td>3172.0</td>\n",
              "      <td>4.0</td>\n",
              "    </tr>\n",
              "    <tr>\n",
              "      <th>52</th>\n",
              "      <td>Natal</td>\n",
              "      <td>2018-04-27</td>\n",
              "      <td>778.0</td>\n",
              "      <td>854</td>\n",
              "      <td>4</td>\n",
              "      <td>3112.0</td>\n",
              "      <td>4.0</td>\n",
              "    </tr>\n",
              "  </tbody>\n",
              "</table>\n",
              "</div>"
            ],
            "text/plain": [
              "   Cidade       Data  Vendas LojaID  Qtde  Receita  Receita/vendas\n",
              "7   Natal 2019-03-18   886.0    853     4   3544.0             4.0\n",
              "51  Natal 2018-01-21   859.0    852     4   3436.0             4.0\n",
              "55  Natal 2019-01-08   859.0    854     4   3436.0             4.0\n",
              "30  Natal 2018-10-02   856.0    853     4   3424.0             4.0\n",
              "41  Natal 2018-05-20   835.0    852     4   3340.0             4.0\n",
              "38  Natal 2018-02-25   828.0    852     4   3312.0             4.0\n",
              "10  Natal 2018-10-27   828.0    852     4   3312.0             4.0\n",
              "69  Natal 2019-03-24   817.0    852     4   3268.0             4.0\n",
              "62  Natal 2018-02-10   793.0    854     4   3172.0             4.0\n",
              "52  Natal 2018-04-27   778.0    854     4   3112.0             4.0"
            ]
          },
          "metadata": {
            "tags": []
          },
          "execution_count": 26
        }
      ]
    },
    {
      "cell_type": "markdown",
      "metadata": {
        "id": "Tniyi3gR4BML"
      },
      "source": [
        "#**2- TRABALHANDO COM DATAS**"
      ]
    },
    {
      "cell_type": "markdown",
      "metadata": {
        "id": "xJlH_Cb3sP9I"
      },
      "source": [
        "#Transformando a coluna data em tipo inteiro"
      ]
    },
    {
      "cell_type": "code",
      "metadata": {
        "id": "QvVsKaPSsWhg"
      },
      "source": [
        "df['Data'] = df['Data'].astype(\"int64\")"
      ],
      "execution_count": null,
      "outputs": []
    },
    {
      "cell_type": "code",
      "metadata": {
        "colab": {
          "base_uri": "https://localhost:8080/"
        },
        "id": "s3xyr0KFtQv0",
        "outputId": "5d9b5e44-a533-49fc-d42c-20425b83f8fd"
      },
      "source": [
        "#verificando o tipo de dado de cada coluna\n",
        "df.dtypes"
      ],
      "execution_count": null,
      "outputs": [
        {
          "output_type": "execute_result",
          "data": {
            "text/plain": [
              "Cidade             object\n",
              "Data                int64\n",
              "Vendas            float64\n",
              "LojaID             object\n",
              "Qtde                int64\n",
              "Receita           float64\n",
              "Receita/vendas    float64\n",
              "dtype: object"
            ]
          },
          "metadata": {
            "tags": []
          },
          "execution_count": 29
        }
      ]
    },
    {
      "cell_type": "markdown",
      "metadata": {
        "id": "MhilmpGEu0ia"
      },
      "source": [
        "#Transformando a coluna data em data"
      ]
    },
    {
      "cell_type": "code",
      "metadata": {
        "id": "VBvnDSogu6Kn"
      },
      "source": [
        "df['Data'] = pd.to_datetime(df['Data'])"
      ],
      "execution_count": null,
      "outputs": []
    },
    {
      "cell_type": "code",
      "metadata": {
        "colab": {
          "base_uri": "https://localhost:8080/"
        },
        "id": "wLtNdRnlvSJ4",
        "outputId": "02e42400-b66b-418b-9c76-f27a5e159a11"
      },
      "source": [
        "df.dtypes"
      ],
      "execution_count": null,
      "outputs": [
        {
          "output_type": "execute_result",
          "data": {
            "text/plain": [
              "Cidade                    object\n",
              "Data              datetime64[ns]\n",
              "Vendas                   float64\n",
              "LojaID                    object\n",
              "Qtde                       int64\n",
              "Receita                  float64\n",
              "Receita/vendas           float64\n",
              "dtype: object"
            ]
          },
          "metadata": {
            "tags": []
          },
          "execution_count": 31
        }
      ]
    },
    {
      "cell_type": "markdown",
      "metadata": {
        "id": "awxBW_3Qvx3J"
      },
      "source": [
        "#Agrupamento por Ano (Receita)"
      ]
    },
    {
      "cell_type": "code",
      "metadata": {
        "colab": {
          "base_uri": "https://localhost:8080/"
        },
        "id": "ktaSfMt7v1fc",
        "outputId": "9cd626e2-e56d-48a7-e7da-13c153c4d4e5"
      },
      "source": [
        "df.groupby(df['Data'].dt.year)[\"Receita\"].sum()"
      ],
      "execution_count": null,
      "outputs": [
        {
          "output_type": "execute_result",
          "data": {
            "text/plain": [
              "Data\n",
              "2018    118912.200805\n",
              "2019    230943.909620\n",
              "Name: Receita, dtype: float64"
            ]
          },
          "metadata": {
            "tags": []
          },
          "execution_count": 32
        }
      ]
    },
    {
      "cell_type": "code",
      "metadata": {
        "id": "0YpJCEi5wftl"
      },
      "source": [
        "#Criando uma nova coluna Ano\n",
        "df[\"Ano Venda\"] = df['Data'].dt.year"
      ],
      "execution_count": null,
      "outputs": []
    },
    {
      "cell_type": "code",
      "metadata": {
        "colab": {
          "base_uri": "https://localhost:8080/",
          "height": 204
        },
        "id": "FPEh_G7Zwwuy",
        "outputId": "7ac0972d-caae-453b-ee93-63325ebcba43"
      },
      "source": [
        "# Apresentando uma amostra do data frame\n",
        "df.sample(5)"
      ],
      "execution_count": null,
      "outputs": [
        {
          "output_type": "execute_result",
          "data": {
            "text/html": [
              "<div>\n",
              "<style scoped>\n",
              "    .dataframe tbody tr th:only-of-type {\n",
              "        vertical-align: middle;\n",
              "    }\n",
              "\n",
              "    .dataframe tbody tr th {\n",
              "        vertical-align: top;\n",
              "    }\n",
              "\n",
              "    .dataframe thead th {\n",
              "        text-align: right;\n",
              "    }\n",
              "</style>\n",
              "<table border=\"1\" class=\"dataframe\">\n",
              "  <thead>\n",
              "    <tr style=\"text-align: right;\">\n",
              "      <th></th>\n",
              "      <th>Cidade</th>\n",
              "      <th>Data</th>\n",
              "      <th>Vendas</th>\n",
              "      <th>LojaID</th>\n",
              "      <th>Qtde</th>\n",
              "      <th>Receita</th>\n",
              "      <th>Receita/vendas</th>\n",
              "      <th>Ano Venda</th>\n",
              "    </tr>\n",
              "  </thead>\n",
              "  <tbody>\n",
              "    <tr>\n",
              "      <th>186</th>\n",
              "      <td>Natal</td>\n",
              "      <td>2019-01-02</td>\n",
              "      <td>169.09</td>\n",
              "      <td>1036</td>\n",
              "      <td>2</td>\n",
              "      <td>338.18</td>\n",
              "      <td>2.0</td>\n",
              "      <td>2019</td>\n",
              "    </tr>\n",
              "    <tr>\n",
              "      <th>164</th>\n",
              "      <td>Natal</td>\n",
              "      <td>2019-01-02</td>\n",
              "      <td>6.59</td>\n",
              "      <td>1035</td>\n",
              "      <td>1</td>\n",
              "      <td>6.59</td>\n",
              "      <td>1.0</td>\n",
              "      <td>2019</td>\n",
              "    </tr>\n",
              "    <tr>\n",
              "      <th>52</th>\n",
              "      <td>Fortaleza</td>\n",
              "      <td>2019-01-01</td>\n",
              "      <td>15.22</td>\n",
              "      <td>1003</td>\n",
              "      <td>2</td>\n",
              "      <td>30.44</td>\n",
              "      <td>2.0</td>\n",
              "      <td>2019</td>\n",
              "    </tr>\n",
              "    <tr>\n",
              "      <th>4</th>\n",
              "      <td>Natal</td>\n",
              "      <td>2019-03-09</td>\n",
              "      <td>699.00</td>\n",
              "      <td>853</td>\n",
              "      <td>3</td>\n",
              "      <td>2097.00</td>\n",
              "      <td>3.0</td>\n",
              "      <td>2019</td>\n",
              "    </tr>\n",
              "    <tr>\n",
              "      <th>79</th>\n",
              "      <td>Fortaleza</td>\n",
              "      <td>2019-01-01</td>\n",
              "      <td>41.25</td>\n",
              "      <td>1005</td>\n",
              "      <td>6</td>\n",
              "      <td>247.50</td>\n",
              "      <td>6.0</td>\n",
              "      <td>2019</td>\n",
              "    </tr>\n",
              "  </tbody>\n",
              "</table>\n",
              "</div>"
            ],
            "text/plain": [
              "        Cidade       Data  Vendas  ...  Receita  Receita/vendas  Ano Venda\n",
              "186      Natal 2019-01-02  169.09  ...   338.18             2.0       2019\n",
              "164      Natal 2019-01-02    6.59  ...     6.59             1.0       2019\n",
              "52   Fortaleza 2019-01-01   15.22  ...    30.44             2.0       2019\n",
              "4        Natal 2019-03-09  699.00  ...  2097.00             3.0       2019\n",
              "79   Fortaleza 2019-01-01   41.25  ...   247.50             6.0       2019\n",
              "\n",
              "[5 rows x 8 columns]"
            ]
          },
          "metadata": {
            "tags": []
          },
          "execution_count": 34
        }
      ]
    },
    {
      "cell_type": "markdown",
      "metadata": {
        "id": "fBDuUG3Ww--N"
      },
      "source": [
        "# Extraindo o mês e o dia da Venda"
      ]
    },
    {
      "cell_type": "code",
      "metadata": {
        "id": "7ToBqe2UxCBA"
      },
      "source": [
        "df[\"mes_venda\"], df[\"dia_venda\"] = (df['Data'].dt.month , df['Data'].dt.day) "
      ],
      "execution_count": null,
      "outputs": []
    },
    {
      "cell_type": "code",
      "metadata": {
        "colab": {
          "base_uri": "https://localhost:8080/",
          "height": 204
        },
        "id": "5QPyHJ9yxxGi",
        "outputId": "dde8288c-ac17-4ed4-ed29-315cee56a555"
      },
      "source": [
        "df.sample(5)"
      ],
      "execution_count": null,
      "outputs": [
        {
          "output_type": "execute_result",
          "data": {
            "text/html": [
              "<div>\n",
              "<style scoped>\n",
              "    .dataframe tbody tr th:only-of-type {\n",
              "        vertical-align: middle;\n",
              "    }\n",
              "\n",
              "    .dataframe tbody tr th {\n",
              "        vertical-align: top;\n",
              "    }\n",
              "\n",
              "    .dataframe thead th {\n",
              "        text-align: right;\n",
              "    }\n",
              "</style>\n",
              "<table border=\"1\" class=\"dataframe\">\n",
              "  <thead>\n",
              "    <tr style=\"text-align: right;\">\n",
              "      <th></th>\n",
              "      <th>Cidade</th>\n",
              "      <th>Data</th>\n",
              "      <th>Vendas</th>\n",
              "      <th>LojaID</th>\n",
              "      <th>Qtde</th>\n",
              "      <th>Receita</th>\n",
              "      <th>Receita/vendas</th>\n",
              "      <th>Ano Venda</th>\n",
              "      <th>mes_venda</th>\n",
              "      <th>dia_venda</th>\n",
              "    </tr>\n",
              "  </thead>\n",
              "  <tbody>\n",
              "    <tr>\n",
              "      <th>12</th>\n",
              "      <td>Aracaju</td>\n",
              "      <td>2019-01-01</td>\n",
              "      <td>9.78</td>\n",
              "      <td>1520</td>\n",
              "      <td>8</td>\n",
              "      <td>78.24</td>\n",
              "      <td>8.0</td>\n",
              "      <td>2019</td>\n",
              "      <td>1</td>\n",
              "      <td>1</td>\n",
              "    </tr>\n",
              "    <tr>\n",
              "      <th>37</th>\n",
              "      <td>Salvador</td>\n",
              "      <td>2019-01-01</td>\n",
              "      <td>18.31</td>\n",
              "      <td>1036</td>\n",
              "      <td>3</td>\n",
              "      <td>54.93</td>\n",
              "      <td>3.0</td>\n",
              "      <td>2019</td>\n",
              "      <td>1</td>\n",
              "      <td>1</td>\n",
              "    </tr>\n",
              "    <tr>\n",
              "      <th>44</th>\n",
              "      <td>Recife</td>\n",
              "      <td>2019-01-01</td>\n",
              "      <td>142.21</td>\n",
              "      <td>983</td>\n",
              "      <td>8</td>\n",
              "      <td>1137.68</td>\n",
              "      <td>8.0</td>\n",
              "      <td>2019</td>\n",
              "      <td>1</td>\n",
              "      <td>1</td>\n",
              "    </tr>\n",
              "    <tr>\n",
              "      <th>100</th>\n",
              "      <td>Recife</td>\n",
              "      <td>2019-01-01</td>\n",
              "      <td>35.11</td>\n",
              "      <td>982</td>\n",
              "      <td>4</td>\n",
              "      <td>140.44</td>\n",
              "      <td>4.0</td>\n",
              "      <td>2019</td>\n",
              "      <td>1</td>\n",
              "      <td>1</td>\n",
              "    </tr>\n",
              "    <tr>\n",
              "      <th>137</th>\n",
              "      <td>Recife</td>\n",
              "      <td>2019-03-02</td>\n",
              "      <td>51.99</td>\n",
              "      <td>983</td>\n",
              "      <td>3</td>\n",
              "      <td>155.97</td>\n",
              "      <td>3.0</td>\n",
              "      <td>2019</td>\n",
              "      <td>3</td>\n",
              "      <td>2</td>\n",
              "    </tr>\n",
              "  </tbody>\n",
              "</table>\n",
              "</div>"
            ],
            "text/plain": [
              "       Cidade       Data  Vendas  ... Ano Venda  mes_venda  dia_venda\n",
              "12    Aracaju 2019-01-01    9.78  ...      2019          1          1\n",
              "37   Salvador 2019-01-01   18.31  ...      2019          1          1\n",
              "44     Recife 2019-01-01  142.21  ...      2019          1          1\n",
              "100    Recife 2019-01-01   35.11  ...      2019          1          1\n",
              "137    Recife 2019-03-02   51.99  ...      2019          3          2\n",
              "\n",
              "[5 rows x 10 columns]"
            ]
          },
          "metadata": {
            "tags": []
          },
          "execution_count": 36
        }
      ]
    },
    {
      "cell_type": "code",
      "metadata": {
        "colab": {
          "base_uri": "https://localhost:8080/"
        },
        "id": "P4XLj2wSyxdC",
        "outputId": "99b656b1-4a06-4dae-f26e-27f1903f528b"
      },
      "source": [
        "# Retornando a data mais antiga \n",
        "df['Data'].min()"
      ],
      "execution_count": null,
      "outputs": [
        {
          "output_type": "execute_result",
          "data": {
            "text/plain": [
              "Timestamp('2018-01-01 00:00:00')"
            ]
          },
          "metadata": {
            "tags": []
          },
          "execution_count": 37
        }
      ]
    },
    {
      "cell_type": "code",
      "metadata": {
        "id": "ZW4G8sTwzMaH"
      },
      "source": [
        "# Calculando a diferença de dias (usando a data mínima)\n",
        "df[\"diferenca_dias\"] = df['Data'] - df['Data'].min() "
      ],
      "execution_count": null,
      "outputs": []
    },
    {
      "cell_type": "code",
      "metadata": {
        "colab": {
          "base_uri": "https://localhost:8080/",
          "height": 204
        },
        "id": "kperhc2kzllD",
        "outputId": "bb86092c-7078-46fd-fbf6-a9f4316ed103"
      },
      "source": [
        "df.sample(5)"
      ],
      "execution_count": null,
      "outputs": [
        {
          "output_type": "execute_result",
          "data": {
            "text/html": [
              "<div>\n",
              "<style scoped>\n",
              "    .dataframe tbody tr th:only-of-type {\n",
              "        vertical-align: middle;\n",
              "    }\n",
              "\n",
              "    .dataframe tbody tr th {\n",
              "        vertical-align: top;\n",
              "    }\n",
              "\n",
              "    .dataframe thead th {\n",
              "        text-align: right;\n",
              "    }\n",
              "</style>\n",
              "<table border=\"1\" class=\"dataframe\">\n",
              "  <thead>\n",
              "    <tr style=\"text-align: right;\">\n",
              "      <th></th>\n",
              "      <th>Cidade</th>\n",
              "      <th>Data</th>\n",
              "      <th>Vendas</th>\n",
              "      <th>LojaID</th>\n",
              "      <th>Qtde</th>\n",
              "      <th>Receita</th>\n",
              "      <th>Receita/vendas</th>\n",
              "      <th>Ano Venda</th>\n",
              "      <th>mes_venda</th>\n",
              "      <th>dia_venda</th>\n",
              "      <th>diferenca_dias</th>\n",
              "    </tr>\n",
              "  </thead>\n",
              "  <tbody>\n",
              "    <tr>\n",
              "      <th>101</th>\n",
              "      <td>Salvador</td>\n",
              "      <td>2019-01-01</td>\n",
              "      <td>32.28</td>\n",
              "      <td>1035</td>\n",
              "      <td>3</td>\n",
              "      <td>96.84</td>\n",
              "      <td>3.0</td>\n",
              "      <td>2019</td>\n",
              "      <td>1</td>\n",
              "      <td>1</td>\n",
              "      <td>365 days</td>\n",
              "    </tr>\n",
              "    <tr>\n",
              "      <th>13</th>\n",
              "      <td>Natal</td>\n",
              "      <td>2018-09-12</td>\n",
              "      <td>458.00</td>\n",
              "      <td>852</td>\n",
              "      <td>4</td>\n",
              "      <td>1832.00</td>\n",
              "      <td>4.0</td>\n",
              "      <td>2018</td>\n",
              "      <td>9</td>\n",
              "      <td>12</td>\n",
              "      <td>254 days</td>\n",
              "    </tr>\n",
              "    <tr>\n",
              "      <th>46</th>\n",
              "      <td>Natal</td>\n",
              "      <td>2019-03-26</td>\n",
              "      <td>753.00</td>\n",
              "      <td>853</td>\n",
              "      <td>2</td>\n",
              "      <td>1506.00</td>\n",
              "      <td>2.0</td>\n",
              "      <td>2019</td>\n",
              "      <td>3</td>\n",
              "      <td>26</td>\n",
              "      <td>449 days</td>\n",
              "    </tr>\n",
              "    <tr>\n",
              "      <th>136</th>\n",
              "      <td>Recife</td>\n",
              "      <td>2019-03-02</td>\n",
              "      <td>39.09</td>\n",
              "      <td>982</td>\n",
              "      <td>4</td>\n",
              "      <td>156.36</td>\n",
              "      <td>4.0</td>\n",
              "      <td>2019</td>\n",
              "      <td>3</td>\n",
              "      <td>2</td>\n",
              "      <td>425 days</td>\n",
              "    </tr>\n",
              "    <tr>\n",
              "      <th>41</th>\n",
              "      <td>Fortaleza</td>\n",
              "      <td>2019-02-13</td>\n",
              "      <td>191.29</td>\n",
              "      <td>1002</td>\n",
              "      <td>3</td>\n",
              "      <td>573.87</td>\n",
              "      <td>3.0</td>\n",
              "      <td>2019</td>\n",
              "      <td>2</td>\n",
              "      <td>13</td>\n",
              "      <td>408 days</td>\n",
              "    </tr>\n",
              "  </tbody>\n",
              "</table>\n",
              "</div>"
            ],
            "text/plain": [
              "        Cidade       Data  Vendas  ... mes_venda  dia_venda  diferenca_dias\n",
              "101   Salvador 2019-01-01   32.28  ...         1          1        365 days\n",
              "13       Natal 2018-09-12  458.00  ...         9         12        254 days\n",
              "46       Natal 2019-03-26  753.00  ...         3         26        449 days\n",
              "136     Recife 2019-03-02   39.09  ...         3          2        425 days\n",
              "41   Fortaleza 2019-02-13  191.29  ...         2         13        408 days\n",
              "\n",
              "[5 rows x 11 columns]"
            ]
          },
          "metadata": {
            "tags": []
          },
          "execution_count": 39
        }
      ]
    },
    {
      "cell_type": "markdown",
      "metadata": {
        "id": "c2jb8ugFzweP"
      },
      "source": [
        "# Criando uma coluna de Trimestre das Vendas"
      ]
    },
    {
      "cell_type": "code",
      "metadata": {
        "id": "PSRdsCI1z1Iw"
      },
      "source": [
        "df[\"trimestre_vendas\"] = df['Data'].dt.quarter"
      ],
      "execution_count": null,
      "outputs": []
    },
    {
      "cell_type": "code",
      "metadata": {
        "colab": {
          "base_uri": "https://localhost:8080/",
          "height": 326
        },
        "id": "Gzs6qWtz0Hl3",
        "outputId": "a6a6b040-db28-49c5-b937-270abdae69c4"
      },
      "source": [
        "df.sample(5)"
      ],
      "execution_count": null,
      "outputs": [
        {
          "output_type": "execute_result",
          "data": {
            "text/html": [
              "<div>\n",
              "<style scoped>\n",
              "    .dataframe tbody tr th:only-of-type {\n",
              "        vertical-align: middle;\n",
              "    }\n",
              "\n",
              "    .dataframe tbody tr th {\n",
              "        vertical-align: top;\n",
              "    }\n",
              "\n",
              "    .dataframe thead th {\n",
              "        text-align: right;\n",
              "    }\n",
              "</style>\n",
              "<table border=\"1\" class=\"dataframe\">\n",
              "  <thead>\n",
              "    <tr style=\"text-align: right;\">\n",
              "      <th></th>\n",
              "      <th>Cidade</th>\n",
              "      <th>Data</th>\n",
              "      <th>Vendas</th>\n",
              "      <th>LojaID</th>\n",
              "      <th>Qtde</th>\n",
              "      <th>Receita</th>\n",
              "      <th>Receita/vendas</th>\n",
              "      <th>Ano Venda</th>\n",
              "      <th>mes_venda</th>\n",
              "      <th>dia_venda</th>\n",
              "      <th>diferenca_dias</th>\n",
              "      <th>trimestre_vendas</th>\n",
              "    </tr>\n",
              "  </thead>\n",
              "  <tbody>\n",
              "    <tr>\n",
              "      <th>106</th>\n",
              "      <td>Aracaju</td>\n",
              "      <td>2018-01-01</td>\n",
              "      <td>16.32</td>\n",
              "      <td>1520</td>\n",
              "      <td>7</td>\n",
              "      <td>114.24</td>\n",
              "      <td>7.0</td>\n",
              "      <td>2018</td>\n",
              "      <td>1</td>\n",
              "      <td>1</td>\n",
              "      <td>0 days</td>\n",
              "      <td>1</td>\n",
              "    </tr>\n",
              "    <tr>\n",
              "      <th>142</th>\n",
              "      <td>Natal</td>\n",
              "      <td>2019-01-02</td>\n",
              "      <td>7.12</td>\n",
              "      <td>1034</td>\n",
              "      <td>1</td>\n",
              "      <td>7.12</td>\n",
              "      <td>1.0</td>\n",
              "      <td>2019</td>\n",
              "      <td>1</td>\n",
              "      <td>2</td>\n",
              "      <td>366 days</td>\n",
              "      <td>1</td>\n",
              "    </tr>\n",
              "    <tr>\n",
              "      <th>28</th>\n",
              "      <td>Natal</td>\n",
              "      <td>2019-02-13</td>\n",
              "      <td>705.00</td>\n",
              "      <td>853</td>\n",
              "      <td>2</td>\n",
              "      <td>1410.00</td>\n",
              "      <td>2.0</td>\n",
              "      <td>2019</td>\n",
              "      <td>2</td>\n",
              "      <td>13</td>\n",
              "      <td>408 days</td>\n",
              "      <td>1</td>\n",
              "    </tr>\n",
              "    <tr>\n",
              "      <th>59</th>\n",
              "      <td>Aracaju</td>\n",
              "      <td>2018-01-01</td>\n",
              "      <td>15.07</td>\n",
              "      <td>1523</td>\n",
              "      <td>7</td>\n",
              "      <td>105.49</td>\n",
              "      <td>7.0</td>\n",
              "      <td>2018</td>\n",
              "      <td>1</td>\n",
              "      <td>1</td>\n",
              "      <td>0 days</td>\n",
              "      <td>1</td>\n",
              "    </tr>\n",
              "    <tr>\n",
              "      <th>176</th>\n",
              "      <td>Natal</td>\n",
              "      <td>2019-01-02</td>\n",
              "      <td>19.42</td>\n",
              "      <td>1035</td>\n",
              "      <td>3</td>\n",
              "      <td>58.26</td>\n",
              "      <td>3.0</td>\n",
              "      <td>2019</td>\n",
              "      <td>1</td>\n",
              "      <td>2</td>\n",
              "      <td>366 days</td>\n",
              "      <td>1</td>\n",
              "    </tr>\n",
              "  </tbody>\n",
              "</table>\n",
              "</div>"
            ],
            "text/plain": [
              "      Cidade       Data  Vendas  ... dia_venda  diferenca_dias  trimestre_vendas\n",
              "106  Aracaju 2018-01-01   16.32  ...         1          0 days                 1\n",
              "142    Natal 2019-01-02    7.12  ...         2        366 days                 1\n",
              "28     Natal 2019-02-13  705.00  ...        13        408 days                 1\n",
              "59   Aracaju 2018-01-01   15.07  ...         1          0 days                 1\n",
              "176    Natal 2019-01-02   19.42  ...         2        366 days                 1\n",
              "\n",
              "[5 rows x 12 columns]"
            ]
          },
          "metadata": {
            "tags": []
          },
          "execution_count": 41
        }
      ]
    },
    {
      "cell_type": "markdown",
      "metadata": {
        "id": "CZNCNDBm0vag"
      },
      "source": [
        "# Filtrando as vendas do ano (2019) e o mês (03)"
      ]
    },
    {
      "cell_type": "code",
      "metadata": {
        "id": "2UJtemaF022-"
      },
      "source": [
        "vendas_marco_19 = df.loc[(df['Data'].dt.year == 2019) & (df['Data'].dt.month == 3)]"
      ],
      "execution_count": null,
      "outputs": []
    },
    {
      "cell_type": "code",
      "metadata": {
        "colab": {
          "base_uri": "https://localhost:8080/",
          "height": 326
        },
        "id": "of9scu1W1fVm",
        "outputId": "a54f2ec5-1bcd-4c5e-ec4e-f3234f1492b8"
      },
      "source": [
        "vendas_marco_19.sample(5)"
      ],
      "execution_count": null,
      "outputs": [
        {
          "output_type": "execute_result",
          "data": {
            "text/html": [
              "<div>\n",
              "<style scoped>\n",
              "    .dataframe tbody tr th:only-of-type {\n",
              "        vertical-align: middle;\n",
              "    }\n",
              "\n",
              "    .dataframe tbody tr th {\n",
              "        vertical-align: top;\n",
              "    }\n",
              "\n",
              "    .dataframe thead th {\n",
              "        text-align: right;\n",
              "    }\n",
              "</style>\n",
              "<table border=\"1\" class=\"dataframe\">\n",
              "  <thead>\n",
              "    <tr style=\"text-align: right;\">\n",
              "      <th></th>\n",
              "      <th>Cidade</th>\n",
              "      <th>Data</th>\n",
              "      <th>Vendas</th>\n",
              "      <th>LojaID</th>\n",
              "      <th>Qtde</th>\n",
              "      <th>Receita</th>\n",
              "      <th>Receita/vendas</th>\n",
              "      <th>Ano Venda</th>\n",
              "      <th>mes_venda</th>\n",
              "      <th>dia_venda</th>\n",
              "      <th>diferenca_dias</th>\n",
              "      <th>trimestre_vendas</th>\n",
              "    </tr>\n",
              "  </thead>\n",
              "  <tbody>\n",
              "    <tr>\n",
              "      <th>125</th>\n",
              "      <td>Salvador</td>\n",
              "      <td>2019-03-02</td>\n",
              "      <td>25.00</td>\n",
              "      <td>1037</td>\n",
              "      <td>2</td>\n",
              "      <td>50.00</td>\n",
              "      <td>2.0</td>\n",
              "      <td>2019</td>\n",
              "      <td>3</td>\n",
              "      <td>2</td>\n",
              "      <td>425 days</td>\n",
              "      <td>1</td>\n",
              "    </tr>\n",
              "    <tr>\n",
              "      <th>121</th>\n",
              "      <td>Fortaleza</td>\n",
              "      <td>2019-03-02</td>\n",
              "      <td>41.55</td>\n",
              "      <td>981</td>\n",
              "      <td>3</td>\n",
              "      <td>124.65</td>\n",
              "      <td>3.0</td>\n",
              "      <td>2019</td>\n",
              "      <td>3</td>\n",
              "      <td>2</td>\n",
              "      <td>425 days</td>\n",
              "      <td>1</td>\n",
              "    </tr>\n",
              "    <tr>\n",
              "      <th>136</th>\n",
              "      <td>Recife</td>\n",
              "      <td>2019-03-02</td>\n",
              "      <td>39.09</td>\n",
              "      <td>982</td>\n",
              "      <td>4</td>\n",
              "      <td>156.36</td>\n",
              "      <td>4.0</td>\n",
              "      <td>2019</td>\n",
              "      <td>3</td>\n",
              "      <td>2</td>\n",
              "      <td>425 days</td>\n",
              "      <td>1</td>\n",
              "    </tr>\n",
              "    <tr>\n",
              "      <th>113</th>\n",
              "      <td>Recife</td>\n",
              "      <td>2019-03-02</td>\n",
              "      <td>38.63</td>\n",
              "      <td>980</td>\n",
              "      <td>2</td>\n",
              "      <td>77.26</td>\n",
              "      <td>2.0</td>\n",
              "      <td>2019</td>\n",
              "      <td>3</td>\n",
              "      <td>2</td>\n",
              "      <td>425 days</td>\n",
              "      <td>1</td>\n",
              "    </tr>\n",
              "    <tr>\n",
              "      <th>134</th>\n",
              "      <td>Fortaleza</td>\n",
              "      <td>2019-03-02</td>\n",
              "      <td>195.18</td>\n",
              "      <td>980</td>\n",
              "      <td>5</td>\n",
              "      <td>975.90</td>\n",
              "      <td>5.0</td>\n",
              "      <td>2019</td>\n",
              "      <td>3</td>\n",
              "      <td>2</td>\n",
              "      <td>425 days</td>\n",
              "      <td>1</td>\n",
              "    </tr>\n",
              "  </tbody>\n",
              "</table>\n",
              "</div>"
            ],
            "text/plain": [
              "        Cidade       Data  Vendas  ... dia_venda  diferenca_dias  trimestre_vendas\n",
              "125   Salvador 2019-03-02   25.00  ...         2        425 days                 1\n",
              "121  Fortaleza 2019-03-02   41.55  ...         2        425 days                 1\n",
              "136     Recife 2019-03-02   39.09  ...         2        425 days                 1\n",
              "113     Recife 2019-03-02   38.63  ...         2        425 days                 1\n",
              "134  Fortaleza 2019-03-02  195.18  ...         2        425 days                 1\n",
              "\n",
              "[5 rows x 12 columns]"
            ]
          },
          "metadata": {
            "tags": []
          },
          "execution_count": 45
        }
      ]
    },
    {
      "cell_type": "markdown",
      "metadata": {
        "id": "-AJc7Yl05CYA"
      },
      "source": [
        "#**3- VISUALIZAÇÃO DE DADOS**"
      ]
    },
    {
      "cell_type": "markdown",
      "metadata": {
        "id": "Zfx71Lt43NIR"
      },
      "source": [
        "# Utilizando o método value_counts no campo LojaID (quantitativo de vendas cada loja)"
      ]
    },
    {
      "cell_type": "code",
      "metadata": {
        "colab": {
          "base_uri": "https://localhost:8080/"
        },
        "id": "wPh66MUl3krG",
        "outputId": "566a7ae0-be5e-4139-82b0-125dc01161d3"
      },
      "source": [
        "df['LojaID'].value_counts(ascending=False)"
      ],
      "execution_count": null,
      "outputs": [
        {
          "output_type": "execute_result",
          "data": {
            "text/plain": [
              "1036    117\n",
              "1035    112\n",
              "1037    103\n",
              "1034     67\n",
              "983      67\n",
              "982      44\n",
              "1522     42\n",
              "1520     39\n",
              "980      36\n",
              "981      31\n",
              "1002     30\n",
              "1005     30\n",
              "852      29\n",
              "1523     29\n",
              "1004     28\n",
              "854      28\n",
              "853      26\n",
              "1521     21\n",
              "1003     20\n",
              "Name: LojaID, dtype: int64"
            ]
          },
          "metadata": {
            "tags": []
          },
          "execution_count": 46
        }
      ]
    },
    {
      "cell_type": "markdown",
      "metadata": {
        "id": "WCZCyn9_5TSN"
      },
      "source": [
        "# Visualizando em gráficos (Barras, Barras Horizontais e pizza) utilizando a biblioteca matplotlib"
      ]
    },
    {
      "cell_type": "code",
      "metadata": {
        "colab": {
          "base_uri": "https://localhost:8080/",
          "height": 281
        },
        "id": "LcpfVO5a6KiG",
        "outputId": "f9adc9a1-ddc0-463e-b34a-01a844754ad7"
      },
      "source": [
        "df['LojaID'].value_counts(ascending=False).plot.bar();"
      ],
      "execution_count": null,
      "outputs": [
        {
          "output_type": "display_data",
          "data": {
            "image/png": "[encoded data removed]",
            "text/plain": [
              "<Figure size 432x288 with 1 Axes>"
            ]
          },
          "metadata": {
            "tags": [],
            "needs_background": "light"
          }
        }
      ]
    },
    {
      "cell_type": "code",
      "metadata": {
        "colab": {
          "base_uri": "https://localhost:8080/",
          "height": 265
        },
        "id": "_bFOx23V6X8I",
        "outputId": "65dbf96b-7ff5-4cbc-ac7c-f5167596ee9f"
      },
      "source": [
        "df['LojaID'].value_counts(ascending=True).plot.barh();"
      ],
      "execution_count": null,
      "outputs": [
        {
          "output_type": "display_data",
          "data": {
            "image/png": "[encoded data removed]",
            "text/plain": [
              "<Figure size 432x288 with 1 Axes>"
            ]
          },
          "metadata": {
            "tags": [],
            "needs_background": "light"
          }
        }
      ]
    },
    {
      "cell_type": "code",
      "metadata": {
        "colab": {
          "base_uri": "https://localhost:8080/",
          "height": 248
        },
        "id": "d0izUnbm7EGA",
        "outputId": "2294a131-841a-4dec-c83e-9d8a59be145a"
      },
      "source": [
        "#Gráfico de pizza (Receita Anual) \n",
        "df.groupby(df['Data'].dt.year)[\"Receita\"].sum().plot.pie();"
      ],
      "execution_count": null,
      "outputs": [
        {
          "output_type": "display_data",
          "data": {
            "image/png": "[encoded data removed]",
            "text/plain": [
              "<Figure size 432x288 with 1 Axes>"
            ]
          },
          "metadata": {
            "tags": []
          }
        }
      ]
    },
    {
      "cell_type": "code",
      "metadata": {
        "colab": {
          "base_uri": "https://localhost:8080/"
        },
        "id": "nXT1sQIw8DKN",
        "outputId": "e396128a-64a2-459a-e3ec-09e35afe15dc"
      },
      "source": [
        "# Total de Vendas por cidade\n",
        "df['Cidade'].value_counts()"
      ],
      "execution_count": null,
      "outputs": [
        {
          "output_type": "execute_result",
          "data": {
            "text/plain": [
              "Natal        242\n",
              "Salvador     240\n",
              "Fortaleza    143\n",
              "Recife       143\n",
              "Aracaju      131\n",
              "Name: Cidade, dtype: int64"
            ]
          },
          "metadata": {
            "tags": []
          },
          "execution_count": 51
        }
      ]
    },
    {
      "cell_type": "markdown",
      "metadata": {
        "id": "4YBHAZYv8U85"
      },
      "source": [
        "# Adicionando um título no gráfico e alterando o nome dos eixos "
      ]
    },
    {
      "cell_type": "code",
      "metadata": {
        "colab": {
          "base_uri": "https://localhost:8080/",
          "height": 331
        },
        "id": "8PkalS8Q8emi",
        "outputId": "328d557c-8323-4906-9fc5-0c8ccfc54d5d"
      },
      "source": [
        "import matplotlib.pyplot as plt\n",
        "df['Cidade'].value_counts().plot.bar(title = \"Total de Vendas por Cidade\")\n",
        "plt.xlabel(\"Cidade\")\n",
        "plt.ylabel(\"Total Vendas\");"
      ],
      "execution_count": null,
      "outputs": [
        {
          "output_type": "display_data",
          "data": {
            "image/png": "[encoded data removed]",
            "text/plain": [
              "<Figure size 432x288 with 1 Axes>"
            ]
          },
          "metadata": {
            "tags": [],
            "needs_background": "light"
          }
        }
      ]
    },
    {
      "cell_type": "code",
      "metadata": {
        "colab": {
          "base_uri": "https://localhost:8080/",
          "height": 331
        },
        "id": "_tfWMgf7-rZa",
        "outputId": "d911e204-b500-4258-c823-eec2c92fc69d"
      },
      "source": [
        "# trocando a cor do gráfico\n",
        "df['Cidade'].value_counts().plot.bar(title = \"Total de Vendas por Cidade\", color=\"red\")\n",
        "plt.xlabel(\"Cidade\")\n",
        "plt.ylabel(\"Total Vendas\");"
      ],
      "execution_count": null,
      "outputs": [
        {
          "output_type": "display_data",
          "data": {
            "image/png": "[encoded data removed]",
            "text/plain": [
              "<Figure size 432x288 with 1 Axes>"
            ]
          },
          "metadata": {
            "tags": [],
            "needs_background": "light"
          }
        }
      ]
    },
    {
      "cell_type": "code",
      "metadata": {
        "id": "H1A6h_xr-5MG"
      },
      "source": [
        "# Alterando o estilo\n",
        "#acessar https://matplotlib.org/stable/gallery/style_sheets/style_sheets_reference.html \n",
        "plt.style.use(\"ggplot\")"
      ],
      "execution_count": null,
      "outputs": []
    },
    {
      "cell_type": "code",
      "metadata": {
        "colab": {
          "base_uri": "https://localhost:8080/",
          "height": 300
        },
        "id": "06Q0Lp97_tri",
        "outputId": "e905d187-4a36-47e4-cc78-599cbceb55c1"
      },
      "source": [
        "# Quantidade de produtos vendidos por mês\n",
        "df.groupby(df[\"mes_venda\"])[\"Qtde\"].sum().plot(title = \"Produtos Vendidos por Mês\")\n",
        "plt.xlabel(\"Mês\")\n",
        "plt.ylabel(\"Total Produtos Vendidos\")\n",
        "plt.legend();"
      ],
      "execution_count": null,
      "outputs": [
        {
          "output_type": "display_data",
          "data": {
            "image/png": "[encoded data removed]",
            "text/plain": [
              "<Figure size 432x288 with 1 Axes>"
            ]
          },
          "metadata": {
            "tags": []
          }
        }
      ]
    },
    {
      "cell_type": "code",
      "metadata": {
        "colab": {
          "base_uri": "https://localhost:8080/"
        },
        "id": "FnqnY8IgDMmO",
        "outputId": "20b7f912-7cd7-4802-a729-6bc655bcf6c4"
      },
      "source": [
        "df.groupby(df[\"mes_venda\"])[\"Qtde\"].sum()"
      ],
      "execution_count": null,
      "outputs": [
        {
          "output_type": "execute_result",
          "data": {
            "text/plain": [
              "mes_venda\n",
              "1     2220\n",
              "2      144\n",
              "3      483\n",
              "4       23\n",
              "5       17\n",
              "6       13\n",
              "7       13\n",
              "8        2\n",
              "9       10\n",
              "10      14\n",
              "11       2\n",
              "12       3\n",
              "Name: Qtde, dtype: int64"
            ]
          },
          "metadata": {
            "tags": []
          },
          "execution_count": 63
        }
      ]
    },
    {
      "cell_type": "code",
      "metadata": {
        "id": "EHuIMfgWDjZH"
      },
      "source": [
        "# Selecionando apenas as vendas de 2019\n",
        "df_2019 = df[df['Ano Venda'] == 2019]"
      ],
      "execution_count": null,
      "outputs": []
    },
    {
      "cell_type": "code",
      "metadata": {
        "colab": {
          "base_uri": "https://localhost:8080/"
        },
        "id": "x213nvVEGebn",
        "outputId": "1c9c9098-6434-4522-88d6-0a7de219a8f2"
      },
      "source": [
        "df_2019.groupby(df_2019[\"mes_venda\"])[\"Qtde\"].sum()"
      ],
      "execution_count": null,
      "outputs": [
        {
          "output_type": "execute_result",
          "data": {
            "text/plain": [
              "mes_venda\n",
              "1    1547\n",
              "2     128\n",
              "3     476\n",
              "4      12\n",
              "Name: Qtde, dtype: int64"
            ]
          },
          "metadata": {
            "tags": []
          },
          "execution_count": 68
        }
      ]
    },
    {
      "cell_type": "code",
      "metadata": {
        "colab": {
          "base_uri": "https://localhost:8080/",
          "height": 283
        },
        "id": "HyWd89E7EX6y",
        "outputId": "33363be5-a041-40d1-a227-02893ded1db1"
      },
      "source": [
        "# Total produtos vendidos por mês\n",
        "df_2019.groupby(df_2019[\"mes_venda\"])[\"Qtde\"].sum().plot(marker = \"o\")\n",
        "plt.xlabel(\"Mês\")\n",
        "plt.ylabel(\"Total Produtos Vendidos\")\n",
        "plt.legend();"
      ],
      "execution_count": null,
      "outputs": [
        {
          "output_type": "display_data",
          "data": {
            "image/png": "[encoded data removed]",
            "text/plain": [
              "<Figure size 432x288 with 1 Axes>"
            ]
          },
          "metadata": {
            "tags": []
          }
        }
      ]
    },
    {
      "cell_type": "code",
      "metadata": {
        "colab": {
          "base_uri": "https://localhost:8080/",
          "height": 265
        },
        "id": "uxpVq51lGj2A",
        "outputId": "20e0866d-b9bc-4df5-a7a9-1957f35021d5"
      },
      "source": [
        "# Histograma\n",
        "# Acessar https://matplotlib.org/stable/gallery/color/named_colors.html#sphx-glr-gallery-color-named-colors-py\n",
        "plt.hist(df['Qtde'], color=\"lightslategray\");"
      ],
      "execution_count": null,
      "outputs": [
        {
          "output_type": "display_data",
          "data": {
            "image/png": "[encoded data removed]",
            "text/plain": [
              "<Figure size 432x288 with 1 Axes>"
            ]
          },
          "metadata": {
            "tags": []
          }
        }
      ]
    },
    {
      "cell_type": "markdown",
      "metadata": {
        "id": "qBX3ETyMLa_Z"
      },
      "source": [
        "# Gráfico de Dispersão - scatter (Dia venda x receita)"
      ]
    },
    {
      "cell_type": "code",
      "metadata": {
        "colab": {
          "base_uri": "https://localhost:8080/",
          "height": 265
        },
        "id": "qJm7slUiLmq2",
        "outputId": "ef7afa14-b3a7-498e-f3e1-c1cde80409da"
      },
      "source": [
        "plt.scatter(x= df_2019[\"dia_venda\"], y= df_2019[\"Receita\"]);"
      ],
      "execution_count": null,
      "outputs": [
        {
          "output_type": "display_data",
          "data": {
            "image/png": "[encoded data removed]",
            "text/plain": [
              "<Figure size 432x288 with 1 Axes>"
            ]
          },
          "metadata": {
            "tags": []
          }
        }
      ]
    },
    {
      "cell_type": "code",
      "metadata": {
        "colab": {
          "base_uri": "https://localhost:8080/",
          "height": 300
        },
        "id": "A6N4a4_ZNu58",
        "outputId": "3a7bff0c-775e-4707-bfab-ad67d2107687"
      },
      "source": [
        "# Salvando em uma imagem .png\n",
        "\n",
        "df_2019.groupby(df_2019[\"mes_venda\"])[\"Qtde\"].sum().plot(marker = \"o\")\n",
        "plt.title(\"Quantidade de Produtos Vendidos por Mês\")\n",
        "plt.xlabel(\"Mês\")\n",
        "plt.ylabel(\"Total Produtos Vendidos\")\n",
        "plt.legend()\n",
        "plt.savefig(\"Grafico Qtde x Mes.png\")"
      ],
      "execution_count": null,
      "outputs": [
        {
          "output_type": "display_data",
          "data": {
            "image/png": "[encoded data removed]",
            "text/plain": [
              "<Figure size 432x288 with 1 Axes>"
            ]
          },
          "metadata": {
            "tags": []
          }
        }
      ]
    }
  ]
}